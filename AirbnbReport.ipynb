{
 "cells": [
  {
   "cell_type": "markdown",
   "metadata": {},
   "source": [
    "# Airbnb 新用户属性分析报告"
   ]
  },
  {
   "cell_type": "markdown",
   "metadata": {},
   "source": [
    "## 项目背景\n",
    "- Airbnb创立于2008年8月，总部位于美国加州旧金山，是全球公寓民宿在线预订平台。2015年6月，Airbnb完成了15亿美元的融资，估值达到255亿美元，在这七年时间内， Airbnb瞄准线上旅行民宿市场，推出本地化、个性化、富有人文气息的民宿租订服务，为房东提供专业的拍摄服务和开展用户推广计划，业务规模实现高速增长。2018年，Airbnb线上房源数量超过500万，平均每晚入住人数超过200万。\n",
    "- Airbnb在Kaggle平台上提供了Airbnb New User Bookings 竞赛数据集，包含2010-2014年新用户注册、首次预订的相关信息，本项目对新用户的基本属性、预订行为、设备属性、营销渠道进行分析，探索Airbnb发展历程，用户属性分析对精细化运营、产品改进、渠道优化、精准营销具有一定的指导意义。"
   ]
  },
  {
   "cell_type": "markdown",
   "metadata": {},
   "source": [
    "## 报告摘要  \n",
    "  1. Airbnb的核心用户是26-45岁的中青年群体，他们追求体验式旅行，对共享理念的认知度高，行动力强，个性化民宿更能满足女性对“美”与“情怀”的追求。  \n",
    "  2. 用户出游受季节性因素影响，选择美国境外民宿的趋势增加，全球化旅居社区更加多元化。  \n",
    "  3. 移动互联网时代，用户乐享移动生活，Airbnb移动应用的设计与优化从用户出发，注重用户的使用体验，玩转于指尖。  \n",
    "  4. 新生代用户乐于分享，热衷于社交，Airbnb利用互联网社交媒体进行品牌传播，提升品牌信誉度，创造真实、共享、富有归属感的用户社区，拓展新用户。  \n",
    "  5. Airbnb新用户预订业务的增长趋势明显，营销渠道以直接预订策略为主，重视付费营销渠道的推广效果，落力推动社会化营销策略，扩大品牌影响力。  "
   ]
  },
  {
   "cell_type": "markdown",
   "metadata": {},
   "source": [
    "## 启示录  \n",
    "  1. 从产品设计的角度来看：根据用户行为信息可以定位产品问题，平台官方网站和移动应用的页面设计和功能改进应从用户应用场景、操作习惯、使用体验出发，正确引导用户。不同终端设备、应用系统、浏览器对网页设计、产品迭代有不同的要求。  \n",
    "  2. 从用户运营的角度来看：结合用户的互动行为和访问信息，适时推送房源信息、优惠信息，在注册后的30天内应尽量引导用户首次预订，把握假期出游高峰带来的机会。根据新用户的首次预订行为，对新用户进行标签分类，生成消费能力、风格偏好、互动习惯等用户标签，丰富个性化推荐系统的数据维度。  \n",
    "  3. 从营销渠道的角度来看：新用户营销以直接预订策略为主，是非付费渠道，推动了平台用户规模增长。根据不同付费渠道的营销效果，优化渠道管理，对优质渠道进行品牌推广，减少对第三方网站的依赖。  \n",
    "  4. 从社交推广的角度来看：根据新生代用户乐于分享的特征，平台开放社交网络连接功能，利用互联网社交媒体进行推广，推动社会化品牌营销策略，实现传播品牌、获取用户、扩大市场的目标。  "
   ]
  },
  {
   "cell_type": "markdown",
   "metadata": {},
   "source": [
    "## 报告目录\n",
    "- 项目介绍\n",
    "  - 公司简介\n",
    "  - 项目背景\n",
    "- 新用户属性分析\n",
    "  - 基本属性\n",
    "    - 国家分布、国际语言、性别比例、年龄分布\n",
    "  - 注册时间\n",
    "    - 注册用户数时间走势\n",
    "  - 首次预订时间\n",
    "    - 首次预订距离注册时间的天数\n",
    "    - 首次预订用户数时间走势\n",
    "    - 首次预订时间热力图\n",
    "  - 首次预订房源\n",
    "  - 注册方式\n",
    "  - 注册应用\n",
    "  - 设备类型\n",
    "  - 浏览器\n",
    "  - 营销渠道\n",
    "  - 营销平台\n",
    "  - 访问来源\n",
    "- 要点总结\n",
    "  - Airbnb发展历程\n",
    "  - 要点总结"
   ]
  },
  {
   "cell_type": "markdown",
   "metadata": {},
   "source": [
    "## 数据整理\n",
    "- Airbnb提供了2010-2014年新注册的用户信息数据集，所有用户均来自美国，本项目中的新用户是指新注册并已完成首次预订的用户，利用Python数据分析库Pandas对数据集进行整理，筛选出符合条件的新用户，共包含88908个新用户注册、首次预订的相关信息，不存在重复数据，将分析数据集导入到MySQL数据库中。"
   ]
  },
  {
   "cell_type": "markdown",
   "metadata": {},
   "source": [
    "## 数据分析及可视化\n",
    "- Superset是由Airbnb开源的一个现代化的企业级商业智能Web应用程序，集成数据查询功能，支持多种数据库，可用于探索和可视化数据集，创建交互式仪表板，是一款轻量级BI工具。\n",
    "- 本项目通过Superset连接到MySQL数据库，利用SQL编辑器查询、分析数据，创建可视化图表，对Airbnb新用户属性展开分析。"
   ]
  },
  {
   "cell_type": "markdown",
   "metadata": {},
   "source": [
    "![title](24.png)\n",
    "- 图1：Superset数据查询界面"
   ]
  },
  {
   "cell_type": "markdown",
   "metadata": {},
   "source": [
    "![title](25.png)\n",
    "- 图2：Superset可视化图表界面"
   ]
  },
  {
   "cell_type": "markdown",
   "metadata": {},
   "source": [
    "## 分析报告"
   ]
  },
  {
   "cell_type": "markdown",
   "metadata": {
    "collapsed": true
   },
   "source": [
    "![title](1.png)"
   ]
  },
  {
   "cell_type": "markdown",
   "metadata": {},
   "source": [
    "![title](2.png)"
   ]
  },
  {
   "cell_type": "markdown",
   "metadata": {
    "collapsed": true
   },
   "source": [
    "![title](3.png)"
   ]
  },
  {
   "cell_type": "markdown",
   "metadata": {
    "collapsed": true
   },
   "source": [
    "![title](4.png)"
   ]
  },
  {
   "cell_type": "markdown",
   "metadata": {},
   "source": [
    "![title](5.png)"
   ]
  },
  {
   "cell_type": "markdown",
   "metadata": {},
   "source": [
    "![title](6.png)"
   ]
  },
  {
   "cell_type": "markdown",
   "metadata": {},
   "source": [
    "![title](7.png)"
   ]
  },
  {
   "cell_type": "markdown",
   "metadata": {},
   "source": [
    "![title](8.png)"
   ]
  },
  {
   "cell_type": "markdown",
   "metadata": {},
   "source": [
    "![title](9.png)"
   ]
  },
  {
   "cell_type": "markdown",
   "metadata": {},
   "source": [
    "![title](10.png)"
   ]
  },
  {
   "cell_type": "markdown",
   "metadata": {},
   "source": [
    "![title](11.png)"
   ]
  },
  {
   "cell_type": "markdown",
   "metadata": {},
   "source": [
    "![title](12.png)"
   ]
  },
  {
   "cell_type": "markdown",
   "metadata": {},
   "source": [
    "![title](13.png)"
   ]
  },
  {
   "cell_type": "markdown",
   "metadata": {},
   "source": [
    "![title](14.png)"
   ]
  },
  {
   "cell_type": "markdown",
   "metadata": {},
   "source": [
    "![title](15.png)"
   ]
  },
  {
   "cell_type": "markdown",
   "metadata": {},
   "source": [
    "![title](16.png)"
   ]
  },
  {
   "cell_type": "markdown",
   "metadata": {},
   "source": [
    "![title](17.png)"
   ]
  },
  {
   "cell_type": "markdown",
   "metadata": {},
   "source": [
    "![title](18.png)"
   ]
  },
  {
   "cell_type": "markdown",
   "metadata": {},
   "source": [
    "![title](19.png)"
   ]
  },
  {
   "cell_type": "markdown",
   "metadata": {},
   "source": [
    "![title](20.png)"
   ]
  },
  {
   "cell_type": "markdown",
   "metadata": {},
   "source": [
    "![title](21.png)"
   ]
  },
  {
   "cell_type": "markdown",
   "metadata": {},
   "source": [
    "![title](22.png)"
   ]
  },
  {
   "cell_type": "markdown",
   "metadata": {},
   "source": [
    "![title](23.png)"
   ]
  }
 ],
 "metadata": {
  "kernelspec": {
   "display_name": "Python 3",
   "language": "python",
   "name": "python3"
  },
  "language_info": {
   "codemirror_mode": {
    "name": "ipython",
    "version": 3
   },
   "file_extension": ".py",
   "mimetype": "text/x-python",
   "name": "python",
   "nbconvert_exporter": "python",
   "pygments_lexer": "ipython3",
   "version": "3.6.3"
  }
 },
 "nbformat": 4,
 "nbformat_minor": 2
}
